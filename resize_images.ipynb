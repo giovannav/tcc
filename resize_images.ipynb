{
 "cells": [
  {
   "cell_type": "code",
   "execution_count": 4,
   "metadata": {},
   "outputs": [],
   "source": [
    "import matplotlib.pyplot as plt\n",
    "import cv2\n",
    "import os\n",
    "from os import listdir\n",
    "import random\n",
    "import shutil"
   ]
  },
  {
   "cell_type": "code",
   "execution_count": 5,
   "metadata": {},
   "outputs": [],
   "source": [
    "def crop_images(path_og, path_dest):\n",
    "    filenames = sorted(listdir(path_og))\n",
    "    size = 200\n",
    "    for name in filenames:\n",
    "        img=cv2.imread(path_og+\"/\"+name)        \n",
    "        cv2.imwrite(path_dest+\"/\"+name, cv2.resize(img, (size, size), interpolation = cv2.INTER_AREA))"
   ]
  },
  {
   "cell_type": "code",
   "execution_count": 3,
   "metadata": {},
   "outputs": [],
   "source": [
    "# os.makedirs('camas_tiles', exist_ok=True)"
   ]
  },
  {
   "cell_type": "code",
   "execution_count": 6,
   "metadata": {},
   "outputs": [],
   "source": [
    "# from one dir to another, but resized\n",
    "crop_images('camas_tiles_train/camendoim6sCenL1', 'camas_tiles_train_1/camendoim6sCenL1')\n",
    "crop_images('camas_tiles_train/Frente+Umida', 'camas_tiles_train_1/Frente+Umida')\n",
    "crop_images('camas_tiles_train/Fundo+Intermediaria', 'camas_tiles_train_1/Fundo+Intermediaria')\n",
    "crop_images('camas_tiles_train/Meio+Seca', 'camas_tiles_train_1/Meio+Seca')"
   ]
  },
  {
   "cell_type": "code",
   "execution_count": 7,
   "metadata": {},
   "outputs": [],
   "source": [
    "crop_images('camas_tiles_test/camendoim6sCenL1', 'camas_tiles_test_1/camendoim6sCenL1')\n",
    "crop_images('camas_tiles_test/Frente+Umida', 'camas_tiles_test_1/Frente+Umida')\n",
    "crop_images('camas_tiles_test/Fundo+Intermediaria', 'camas_tiles_test_1/Fundo+Intermediaria')\n",
    "crop_images('camas_tiles_test/Meio+Seca', 'camas_tiles_test_1/Meio+Seca')"
   ]
  },
  {
   "cell_type": "code",
   "execution_count": 8,
   "metadata": {},
   "outputs": [],
   "source": [
    "crop_images('camas_tiles_validation/camendoim6sCenL1', 'camas_tiles_validation_1/camendoim6sCenL1')\n",
    "crop_images('camas_tiles_validation/Frente+Umida', 'camas_tiles_validation_1/Frente+Umida')\n",
    "crop_images('camas_tiles_validation/Fundo+Intermediaria', 'camas_tiles_validation_1/Fundo+Intermediaria')\n",
    "crop_images('camas_tiles_validation/Meio+Seca', 'camas_tiles_validation_1/Meio+Seca')"
   ]
  },
  {
   "cell_type": "code",
   "execution_count": null,
   "metadata": {},
   "outputs": [],
   "source": [
    "crop_images('camas_tiles_train/camendoim6sCenL1', 'camas_tiles')\n",
    "crop_images('camas_tiles_train/Frente+Umida', 'camas_tiles')\n",
    "crop_images('camas_tiles_train/Fundo+Intermediaria', 'camas_tiles')\n",
    "crop_images('camas_tiles_train/Meio+Seca', 'camas_tiles')\n",
    "\n",
    "crop_images('camas_tiles_test/camendoim6sCenL1', 'camas_tiles')\n",
    "crop_images('camas_tiles_test/Frente+Umida', 'camas_tiles')\n",
    "crop_images('camas_tiles_test/Fundo+Intermediaria', 'camas_tiles')\n",
    "crop_images('camas_tiles_test/Meio+Seca', 'camas_tiles')\n",
    "\n",
    "crop_images('camas_tiles_validation/camendoim6sCenL1', 'camas_tiles')\n",
    "crop_images('camas_tiles_validation/Frente+Umida', 'camas_tiles')\n",
    "crop_images('camas_tiles_validation/Fundo+Intermediaria', 'camas_tiles')\n",
    "crop_images('camas_tiles_validation/Meio+Seca', 'camas_tiles')"
   ]
  }
 ],
 "metadata": {
  "kernelspec": {
   "display_name": "Python 3",
   "language": "python",
   "name": "python3"
  },
  "language_info": {
   "codemirror_mode": {
    "name": "ipython",
    "version": 3
   },
   "file_extension": ".py",
   "mimetype": "text/x-python",
   "name": "python",
   "nbconvert_exporter": "python",
   "pygments_lexer": "ipython3",
   "version": "3.9.13"
  },
  "orig_nbformat": 4
 },
 "nbformat": 4,
 "nbformat_minor": 2
}
