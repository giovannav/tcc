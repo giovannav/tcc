{
 "cells": [
  {
   "cell_type": "markdown",
   "metadata": {},
   "source": [
    "### load models and infer the classification from new imagens"
   ]
  },
  {
   "cell_type": "code",
   "execution_count": 3,
   "metadata": {},
   "outputs": [],
   "source": [
    "import os\n",
    "import random\n",
    "from PIL import Image\n",
    "import shutil\n",
    "\n",
    "import os\n",
    "import cv2\n",
    "import numpy as np\n",
    "import pandas as pd\n",
    "import matplotlib.pyplot as plt\n",
    "from keras.models import load_model\n",
    "from tensorflow.keras.preprocessing import image\n",
    "import plotly.express as px"
   ]
  },
  {
   "cell_type": "code",
   "execution_count": 2,
   "metadata": {},
   "outputs": [],
   "source": [
    "folder_path = 'frames'\n",
    "num_images_to_select = 200"
   ]
  },
  {
   "cell_type": "code",
   "execution_count": 18,
   "metadata": {},
   "outputs": [
    {
     "name": "stdout",
     "output_type": "stream",
     "text": [
      "200 random images have been successfully selected, resized to 150x150 pixels, and copied to resized_frames.\n"
     ]
    }
   ],
   "source": [
    "\n",
    "all_images = os.listdir(folder_path)\n",
    "\n",
    "if len(all_images) < num_images_to_select:\n",
    "    print(\"Error: Not enough images in the folder.\")\n",
    "else:\n",
    "    selected_indices = random.sample(range(len(all_images)), num_images_to_select)\n",
    "\n",
    "    selected_folder_path = 'resized_frames'\n",
    "    os.makedirs(selected_folder_path, exist_ok=True)\n",
    "\n",
    "    for index in selected_indices:\n",
    "        image_name = all_images[index]\n",
    "        image_path = os.path.join(folder_path, image_name)\n",
    "\n",
    "        img = Image.open(image_path)\n",
    "\n",
    "        img_resized = img.resize((150, 150))\n",
    "\n",
    "        resized_image_path = os.path.join(selected_folder_path, image_name)\n",
    "        img_resized.save(resized_image_path)"
   ]
  },
  {
   "cell_type": "code",
   "execution_count": 76,
   "metadata": {},
   "outputs": [],
   "source": [
    "model = load_model('h5_jetson_nano_copy/RESNETV2-2023-09-05_03-07-59-2023-09-05_06-13-27.h5')"
   ]
  },
  {
   "cell_type": "code",
   "execution_count": 77,
   "metadata": {},
   "outputs": [],
   "source": [
    "classes = ['Frente+Umida', 'Fundo+Intermediaria', 'Meio+Seca', 'camendoim6sCenL1'] "
   ]
  },
  {
   "cell_type": "code",
   "execution_count": null,
   "metadata": {},
   "outputs": [],
   "source": [
    "image_directory = 'resized_frames'\n",
    "class_name = 'camendoim6sCenL1'\n",
    "results = []\n",
    "\n",
    "# Create a DataFrame to store the results\n",
    "columns = ['Filename'] + classes\n",
    "df_resnet = pd.DataFrame(columns=columns)\n",
    "\n",
    "for filename in os.listdir(image_directory):\n",
    "    if filename.endswith('.png'):\n",
    "        img_path = os.path.join(image_directory, filename)\n",
    "        \n",
    "        img = plt.imread(img_path)\n",
    "        img = cv2.resize(img, (150, 150), interpolation=cv2.INTER_AREA)\n",
    "        img = np.expand_dims(img, 0)\n",
    "        img = img / 255.0 \n",
    "        \n",
    "        predictions_single = model.predict(img)\n",
    "\n",
    "        # Append results to the list\n",
    "        results.append((filename,) + tuple(predictions_single[0]))\n",
    "\n",
    "        # Append results to the DataFrame\n",
    "        row_data = {'Filename': filename}\n",
    "        row_data.update({class_name: prob for class_name, prob in zip(classes, predictions_single[0])})\n",
    "        df_resnet = df_resnet.append(row_data, ignore_index=True)\n",
    "\n",
    "# Print the DataFrame with the results\n",
    "# print(df.head())"
   ]
  },
  {
   "cell_type": "code",
   "execution_count": null,
   "metadata": {},
   "outputs": [],
   "source": [
    "csv_filename = 'resnet50v2-mod_predictions.csv'\n",
    "df_resnet.to_csv(csv_filename, index=False)"
   ]
  },
  {
   "cell_type": "code",
   "execution_count": 38,
   "metadata": {},
   "outputs": [
    {
     "data": {
      "application/vnd.plotly.v1+json": {
       "config": {
        "plotlyServerURL": "https://plot.ly"
       },
       "data": [
        {
         "alignmentgroup": "True",
         "box": {
          "visible": false
         },
         "hovertemplate": "Classe=%{x}<br>Probabilidade=%{y}<extra></extra>",
         "legendgroup": "Frente úmida (maravalha)",
         "marker": {
          "color": "#636efa"
         },
         "name": "Frente úmida (maravalha)",
         "offsetgroup": "Frente úmida (maravalha)",
         "orientation": "v",
         "scalegroup": "True",
         "showlegend": false,
         "type": "violin",
         "x": [
          "Frente úmida (maravalha)",
          "Frente úmida (maravalha)",
          "Frente úmida (maravalha)",
          "Frente úmida (maravalha)",
          "Frente úmida (maravalha)",
          "Frente úmida (maravalha)",
          "Frente úmida (maravalha)",
          "Frente úmida (maravalha)",
          "Frente úmida (maravalha)",
          "Frente úmida (maravalha)",
          "Frente úmida (maravalha)",
          "Frente úmida (maravalha)",
          "Frente úmida (maravalha)",
          "Frente úmida (maravalha)",
          "Frente úmida (maravalha)",
          "Frente úmida (maravalha)",
          "Frente úmida (maravalha)",
          "Frente úmida (maravalha)",
          "Frente úmida (maravalha)",
          "Frente úmida (maravalha)",
          "Frente úmida (maravalha)",
          "Frente úmida (maravalha)",
          "Frente úmida (maravalha)",
          "Frente úmida (maravalha)",
          "Frente úmida (maravalha)",
          "Frente úmida (maravalha)",
          "Frente úmida (maravalha)",
          "Frente úmida (maravalha)",
          "Frente úmida (maravalha)",
          "Frente úmida (maravalha)",
          "Frente úmida (maravalha)",
          "Frente úmida (maravalha)",
          "Frente úmida (maravalha)",
          "Frente úmida (maravalha)",
          "Frente úmida (maravalha)",
          "Frente úmida (maravalha)",
          "Frente úmida (maravalha)",
          "Frente úmida (maravalha)",
          "Frente úmida (maravalha)",
          "Frente úmida (maravalha)",
          "Frente úmida (maravalha)",
          "Frente úmida (maravalha)",
          "Frente úmida (maravalha)",
          "Frente úmida (maravalha)",
          "Frente úmida (maravalha)",
          "Frente úmida (maravalha)",
          "Frente úmida (maravalha)",
          "Frente úmida (maravalha)",
          "Frente úmida (maravalha)",
          "Frente úmida (maravalha)",
          "Frente úmida (maravalha)",
          "Frente úmida (maravalha)",
          "Frente úmida (maravalha)",
          "Frente úmida (maravalha)",
          "Frente úmida (maravalha)",
          "Frente úmida (maravalha)",
          "Frente úmida (maravalha)",
          "Frente úmida (maravalha)",
          "Frente úmida (maravalha)",
          "Frente úmida (maravalha)",
          "Frente úmida (maravalha)",
          "Frente úmida (maravalha)",
          "Frente úmida (maravalha)",
          "Frente úmida (maravalha)",
          "Frente úmida (maravalha)",
          "Frente úmida (maravalha)",
          "Frente úmida (maravalha)",
          "Frente úmida (maravalha)",
          "Frente úmida (maravalha)",
          "Frente úmida (maravalha)",
          "Frente úmida (maravalha)",
          "Frente úmida (maravalha)",
          "Frente úmida (maravalha)",
          "Frente úmida (maravalha)",
          "Frente úmida (maravalha)",
          "Frente úmida (maravalha)",
          "Frente úmida (maravalha)",
          "Frente úmida (maravalha)",
          "Frente úmida (maravalha)",
          "Frente úmida (maravalha)",
          "Frente úmida (maravalha)",
          "Frente úmida (maravalha)",
          "Frente úmida (maravalha)",
          "Frente úmida (maravalha)",
          "Frente úmida (maravalha)",
          "Frente úmida (maravalha)",
          "Frente úmida (maravalha)",
          "Frente úmida (maravalha)",
          "Frente úmida (maravalha)",
          "Frente úmida (maravalha)",
          "Frente úmida (maravalha)",
          "Frente úmida (maravalha)",
          "Frente úmida (maravalha)",
          "Frente úmida (maravalha)",
          "Frente úmida (maravalha)",
          "Frente úmida (maravalha)",
          "Frente úmida (maravalha)",
          "Frente úmida (maravalha)",
          "Frente úmida (maravalha)",
          "Frente úmida (maravalha)",
          "Frente úmida (maravalha)",
          "Frente úmida (maravalha)",
          "Frente úmida (maravalha)",
          "Frente úmida (maravalha)",
          "Frente úmida (maravalha)",
          "Frente úmida (maravalha)",
          "Frente úmida (maravalha)",
          "Frente úmida (maravalha)",
          "Frente úmida (maravalha)",
          "Frente úmida (maravalha)",
          "Frente úmida (maravalha)",
          "Frente úmida (maravalha)",
          "Frente úmida (maravalha)",
          "Frente úmida (maravalha)",
          "Frente úmida (maravalha)",
          "Frente úmida (maravalha)",
          "Frente úmida (maravalha)",
          "Frente úmida (maravalha)",
          "Frente úmida (maravalha)",
          "Frente úmida (maravalha)",
          "Frente úmida (maravalha)",
          "Frente úmida (maravalha)",
          "Frente úmida (maravalha)",
          "Frente úmida (maravalha)",
          "Frente úmida (maravalha)",
          "Frente úmida (maravalha)",
          "Frente úmida (maravalha)",
          "Frente úmida (maravalha)",
          "Frente úmida (maravalha)",
          "Frente úmida (maravalha)",
          "Frente úmida (maravalha)",
          "Frente úmida (maravalha)",
          "Frente úmida (maravalha)",
          "Frente úmida (maravalha)",
          "Frente úmida (maravalha)",
          "Frente úmida (maravalha)",
          "Frente úmida (maravalha)",
          "Frente úmida (maravalha)",
          "Frente úmida (maravalha)",
          "Frente úmida (maravalha)",
          "Frente úmida (maravalha)",
          "Frente úmida (maravalha)",
          "Frente úmida (maravalha)",
          "Frente úmida (maravalha)",
          "Frente úmida (maravalha)",
          "Frente úmida (maravalha)",
          "Frente úmida (maravalha)",
          "Frente úmida (maravalha)",
          "Frente úmida (maravalha)",
          "Frente úmida (maravalha)",
          "Frente úmida (maravalha)",
          "Frente úmida (maravalha)",
          "Frente úmida (maravalha)",
          "Frente úmida (maravalha)",
          "Frente úmida (maravalha)",
          "Frente úmida (maravalha)",
          "Frente úmida (maravalha)",
          "Frente úmida (maravalha)",
          "Frente úmida (maravalha)",
          "Frente úmida (maravalha)",
          "Frente úmida (maravalha)",
          "Frente úmida (maravalha)",
          "Frente úmida (maravalha)",
          "Frente úmida (maravalha)",
          "Frente úmida (maravalha)",
          "Frente úmida (maravalha)",
          "Frente úmida (maravalha)",
          "Frente úmida (maravalha)",
          "Frente úmida (maravalha)",
          "Frente úmida (maravalha)",
          "Frente úmida (maravalha)",
          "Frente úmida (maravalha)",
          "Frente úmida (maravalha)",
          "Frente úmida (maravalha)",
          "Frente úmida (maravalha)",
          "Frente úmida (maravalha)",
          "Frente úmida (maravalha)",
          "Frente úmida (maravalha)",
          "Frente úmida (maravalha)",
          "Frente úmida (maravalha)",
          "Frente úmida (maravalha)",
          "Frente úmida (maravalha)",
          "Frente úmida (maravalha)",
          "Frente úmida (maravalha)",
          "Frente úmida (maravalha)",
          "Frente úmida (maravalha)",
          "Frente úmida (maravalha)",
          "Frente úmida (maravalha)",
          "Frente úmida (maravalha)",
          "Frente úmida (maravalha)",
          "Frente úmida (maravalha)",
          "Frente úmida (maravalha)",
          "Frente úmida (maravalha)",
          "Frente úmida (maravalha)",
          "Frente úmida (maravalha)",
          "Frente úmida (maravalha)",
          "Frente úmida (maravalha)",
          "Frente úmida (maravalha)",
          "Frente úmida (maravalha)",
          "Frente úmida (maravalha)"
         ],
         "x0": " ",
         "xaxis": "x",
         "y": [
          0.19316679,
          0.1939029,
          0.19398266,
          0.19424504,
          0.19401176,
          0.19407108,
          0.19440235,
          0.19643472,
          0.19352454,
          0.19811878,
          0.19811009,
          0.18861832,
          0.1881421,
          0.18897383,
          0.18864937,
          0.18433677,
          0.18872754,
          0.19913407,
          0.19962521,
          0.19485113,
          0.19563383,
          0.19555835,
          0.19854456,
          0.19653109,
          0.19845334,
          0.19829659,
          0.19803597,
          0.19716406,
          0.19909416,
          0.19924662,
          0.19351318,
          0.20140514,
          0.20074472,
          0.20686157,
          0.19875683,
          0.19940884,
          0.20297253,
          0.20130229,
          0.20354176,
          0.20712942,
          0.20201789,
          0.19850259,
          0.19795293,
          0.2030874,
          0.20000975,
          0.19839305,
          0.19425033,
          0.19553739,
          0.20047869,
          0.20416126,
          0.20670356,
          0.20177525,
          0.19863857,
          0.19414058,
          0.19635679,
          0.19980115,
          0.20099261,
          0.20226067,
          0.20218179,
          0.19760773,
          0.20388338,
          0.20291574,
          0.20495147,
          0.19959635,
          0.20074767,
          0.20200123,
          0.20123936,
          0.19862707,
          0.19833244,
          0.2021131,
          0.20176049,
          0.1968458,
          0.19907697,
          0.1991035,
          0.19970201,
          0.2009725,
          0.1950431,
          0.20182033,
          0.20950526,
          0.2000056,
          0.20751584,
          0.1956717,
          0.195854,
          0.1949721,
          0.19604109,
          0.19709171,
          0.20425776,
          0.19615446,
          0.19813232,
          0.20070277,
          0.19947766,
          0.20235303,
          0.20325768,
          0.19840546,
          0.1997128,
          0.20152132,
          0.20126645,
          0.1987326,
          0.19913612,
          0.20033462,
          0.20006333,
          0.20385571,
          0.19988087,
          0.20255949,
          0.20243523,
          0.20420411,
          0.20085932,
          0.19488367,
          0.20147432,
          0.201786,
          0.19765076,
          0.19804111,
          0.20019452,
          0.20289002,
          0.20303358,
          0.20309243,
          0.19903731,
          0.19831891,
          0.20179641,
          0.20115645,
          0.2022597,
          0.2022372,
          0.20472817,
          0.20456184,
          0.19619629,
          0.1962689,
          0.19782284,
          0.19780652,
          0.19852488,
          0.19281447,
          0.19608253,
          0.20033078,
          0.20213494,
          0.20216727,
          0.20259884,
          0.20284513,
          0.2041866,
          0.20020843,
          0.19874002,
          0.19849043,
          0.20100318,
          0.20100775,
          0.20148617,
          0.1983453,
          0.19787782,
          0.20204887,
          0.20169361,
          0.21009137,
          0.2011777,
          0.20197912,
          0.2025085,
          0.20244002,
          0.2005228,
          0.20062764,
          0.20106594,
          0.20178665,
          0.20062368,
          0.20071615,
          0.19810057,
          0.19773464,
          0.19832258,
          0.19871783,
          0.20831932,
          0.20852074,
          0.20895198,
          0.20085098,
          0.20069517,
          0.20033033,
          0.20074362,
          0.19985935,
          0.19485737,
          0.19573508,
          0.19857916,
          0.20453125,
          0.20420991,
          0.20425332,
          0.19445896,
          0.20062774,
          0.20650165,
          0.20582661,
          0.19864497,
          0.20130451,
          0.20205036,
          0.20041092,
          0.20100293,
          0.2014518,
          0.2028836,
          0.19476208,
          0.19089186,
          0.19128552,
          0.19315208,
          0.1930451,
          0.19343123,
          0.1934307,
          0.1929703,
          0.19323727,
          0.19351317,
          0.19341798,
          0.19363084,
          0.19362952
         ],
         "y0": " ",
         "yaxis": "y"
        },
        {
         "alignmentgroup": "True",
         "box": {
          "visible": false
         },
         "hovertemplate": "Classe=%{x}<br>Probabilidade=%{y}<extra></extra>",
         "legendgroup": "Fundo intermediária (maravalha)",
         "marker": {
          "color": "#EF553B"
         },
         "name": "Fundo intermediária (maravalha)",
         "offsetgroup": "Fundo intermediária (maravalha)",
         "orientation": "v",
         "scalegroup": "True",
         "showlegend": false,
         "type": "violin",
         "x": [
          "Fundo intermediária (maravalha)",
          "Fundo intermediária (maravalha)",
          "Fundo intermediária (maravalha)",
          "Fundo intermediária (maravalha)",
          "Fundo intermediária (maravalha)",
          "Fundo intermediária (maravalha)",
          "Fundo intermediária (maravalha)",
          "Fundo intermediária (maravalha)",
          "Fundo intermediária (maravalha)",
          "Fundo intermediária (maravalha)",
          "Fundo intermediária (maravalha)",
          "Fundo intermediária (maravalha)",
          "Fundo intermediária (maravalha)",
          "Fundo intermediária (maravalha)",
          "Fundo intermediária (maravalha)",
          "Fundo intermediária (maravalha)",
          "Fundo intermediária (maravalha)",
          "Fundo intermediária (maravalha)",
          "Fundo intermediária (maravalha)",
          "Fundo intermediária (maravalha)",
          "Fundo intermediária (maravalha)",
          "Fundo intermediária (maravalha)",
          "Fundo intermediária (maravalha)",
          "Fundo intermediária (maravalha)",
          "Fundo intermediária (maravalha)",
          "Fundo intermediária (maravalha)",
          "Fundo intermediária (maravalha)",
          "Fundo intermediária (maravalha)",
          "Fundo intermediária (maravalha)",
          "Fundo intermediária (maravalha)",
          "Fundo intermediária (maravalha)",
          "Fundo intermediária (maravalha)",
          "Fundo intermediária (maravalha)",
          "Fundo intermediária (maravalha)",
          "Fundo intermediária (maravalha)",
          "Fundo intermediária (maravalha)",
          "Fundo intermediária (maravalha)",
          "Fundo intermediária (maravalha)",
          "Fundo intermediária (maravalha)",
          "Fundo intermediária (maravalha)",
          "Fundo intermediária (maravalha)",
          "Fundo intermediária (maravalha)",
          "Fundo intermediária (maravalha)",
          "Fundo intermediária (maravalha)",
          "Fundo intermediária (maravalha)",
          "Fundo intermediária (maravalha)",
          "Fundo intermediária (maravalha)",
          "Fundo intermediária (maravalha)",
          "Fundo intermediária (maravalha)",
          "Fundo intermediária (maravalha)",
          "Fundo intermediária (maravalha)",
          "Fundo intermediária (maravalha)",
          "Fundo intermediária (maravalha)",
          "Fundo intermediária (maravalha)",
          "Fundo intermediária (maravalha)",
          "Fundo intermediária (maravalha)",
          "Fundo intermediária (maravalha)",
          "Fundo intermediária (maravalha)",
          "Fundo intermediária (maravalha)",
          "Fundo intermediária (maravalha)",
          "Fundo intermediária (maravalha)",
          "Fundo intermediária (maravalha)",
          "Fundo intermediária (maravalha)",
          "Fundo intermediária (maravalha)",
          "Fundo intermediária (maravalha)",
          "Fundo intermediária (maravalha)",
          "Fundo intermediária (maravalha)",
          "Fundo intermediária (maravalha)",
          "Fundo intermediária (maravalha)",
          "Fundo intermediária (maravalha)",
          "Fundo intermediária (maravalha)",
          "Fundo intermediária (maravalha)",
          "Fundo intermediária (maravalha)",
          "Fundo intermediária (maravalha)",
          "Fundo intermediária (maravalha)",
          "Fundo intermediária (maravalha)",
          "Fundo intermediária (maravalha)",
          "Fundo intermediária (maravalha)",
          "Fundo intermediária (maravalha)",
          "Fundo intermediária (maravalha)",
          "Fundo intermediária (maravalha)",
          "Fundo intermediária (maravalha)",
          "Fundo intermediária (maravalha)",
          "Fundo intermediária (maravalha)",
          "Fundo intermediária (maravalha)",
          "Fundo intermediária (maravalha)",
          "Fundo intermediária (maravalha)",
          "Fundo intermediária (maravalha)",
          "Fundo intermediária (maravalha)",
          "Fundo intermediária (maravalha)",
          "Fundo intermediária (maravalha)",
          "Fundo intermediária (maravalha)",
          "Fundo intermediária (maravalha)",
          "Fundo intermediária (maravalha)",
          "Fundo intermediária (maravalha)",
          "Fundo intermediária (maravalha)",
          "Fundo intermediária (maravalha)",
          "Fundo intermediária (maravalha)",
          "Fundo intermediária (maravalha)",
          "Fundo intermediária (maravalha)",
          "Fundo intermediária (maravalha)",
          "Fundo intermediária (maravalha)",
          "Fundo intermediária (maravalha)",
          "Fundo intermediária (maravalha)",
          "Fundo intermediária (maravalha)",
          "Fundo intermediária (maravalha)",
          "Fundo intermediária (maravalha)",
          "Fundo intermediária (maravalha)",
          "Fundo intermediária (maravalha)",
          "Fundo intermediária (maravalha)",
          "Fundo intermediária (maravalha)",
          "Fundo intermediária (maravalha)",
          "Fundo intermediária (maravalha)",
          "Fundo intermediária (maravalha)",
          "Fundo intermediária (maravalha)",
          "Fundo intermediária (maravalha)",
          "Fundo intermediária (maravalha)",
          "Fundo intermediária (maravalha)",
          "Fundo intermediária (maravalha)",
          "Fundo intermediária (maravalha)",
          "Fundo intermediária (maravalha)",
          "Fundo intermediária (maravalha)",
          "Fundo intermediária (maravalha)",
          "Fundo intermediária (maravalha)",
          "Fundo intermediária (maravalha)",
          "Fundo intermediária (maravalha)",
          "Fundo intermediária (maravalha)",
          "Fundo intermediária (maravalha)",
          "Fundo intermediária (maravalha)",
          "Fundo intermediária (maravalha)",
          "Fundo intermediária (maravalha)",
          "Fundo intermediária (maravalha)",
          "Fundo intermediária (maravalha)",
          "Fundo intermediária (maravalha)",
          "Fundo intermediária (maravalha)",
          "Fundo intermediária (maravalha)",
          "Fundo intermediária (maravalha)",
          "Fundo intermediária (maravalha)",
          "Fundo intermediária (maravalha)",
          "Fundo intermediária (maravalha)",
          "Fundo intermediária (maravalha)",
          "Fundo intermediária (maravalha)",
          "Fundo intermediária (maravalha)",
          "Fundo intermediária (maravalha)",
          "Fundo intermediária (maravalha)",
          "Fundo intermediária (maravalha)",
          "Fundo intermediária (maravalha)",
          "Fundo intermediária (maravalha)",
          "Fundo intermediária (maravalha)",
          "Fundo intermediária (maravalha)",
          "Fundo intermediária (maravalha)",
          "Fundo intermediária (maravalha)",
          "Fundo intermediária (maravalha)",
          "Fundo intermediária (maravalha)",
          "Fundo intermediária (maravalha)",
          "Fundo intermediária (maravalha)",
          "Fundo intermediária (maravalha)",
          "Fundo intermediária (maravalha)",
          "Fundo intermediária (maravalha)",
          "Fundo intermediária (maravalha)",
          "Fundo intermediária (maravalha)",
          "Fundo intermediária (maravalha)",
          "Fundo intermediária (maravalha)",
          "Fundo intermediária (maravalha)",
          "Fundo intermediária (maravalha)",
          "Fundo intermediária (maravalha)",
          "Fundo intermediária (maravalha)",
          "Fundo intermediária (maravalha)",
          "Fundo intermediária (maravalha)",
          "Fundo intermediária (maravalha)",
          "Fundo intermediária (maravalha)",
          "Fundo intermediária (maravalha)",
          "Fundo intermediária (maravalha)",
          "Fundo intermediária (maravalha)",
          "Fundo intermediária (maravalha)",
          "Fundo intermediária (maravalha)",
          "Fundo intermediária (maravalha)",
          "Fundo intermediária (maravalha)",
          "Fundo intermediária (maravalha)",
          "Fundo intermediária (maravalha)",
          "Fundo intermediária (maravalha)",
          "Fundo intermediária (maravalha)",
          "Fundo intermediária (maravalha)",
          "Fundo intermediária (maravalha)",
          "Fundo intermediária (maravalha)",
          "Fundo intermediária (maravalha)",
          "Fundo intermediária (maravalha)",
          "Fundo intermediária (maravalha)",
          "Fundo intermediária (maravalha)",
          "Fundo intermediária (maravalha)",
          "Fundo intermediária (maravalha)",
          "Fundo intermediária (maravalha)",
          "Fundo intermediária (maravalha)",
          "Fundo intermediária (maravalha)",
          "Fundo intermediária (maravalha)",
          "Fundo intermediária (maravalha)",
          "Fundo intermediária (maravalha)",
          "Fundo intermediária (maravalha)",
          "Fundo intermediária (maravalha)",
          "Fundo intermediária (maravalha)"
         ],
         "x0": " ",
         "xaxis": "x",
         "y": [
          0.23670794,
          0.23685665,
          0.23682643,
          0.23691408,
          0.23646352,
          0.236716,
          0.236613,
          0.23900604,
          0.23947437,
          0.240912,
          0.24265008,
          0.23319449,
          0.23256211,
          0.2333303,
          0.23283404,
          0.23061705,
          0.23707366,
          0.24192782,
          0.24215901,
          0.2392475,
          0.2399274,
          0.24006785,
          0.24394493,
          0.24143736,
          0.24049781,
          0.24049756,
          0.24162862,
          0.2404377,
          0.24449292,
          0.24486913,
          0.23489335,
          0.2458966,
          0.24984595,
          0.2562683,
          0.24367927,
          0.24502449,
          0.24883565,
          0.25112376,
          0.2482048,
          0.24614649,
          0.24610732,
          0.24359234,
          0.24514936,
          0.24756382,
          0.24355355,
          0.24453372,
          0.23821485,
          0.24303196,
          0.24383445,
          0.25176942,
          0.2478701,
          0.24490663,
          0.2499004,
          0.24384338,
          0.24678148,
          0.24548481,
          0.24661961,
          0.24700387,
          0.24555025,
          0.24117452,
          0.2534533,
          0.24914938,
          0.25175235,
          0.24772637,
          0.24870677,
          0.24906674,
          0.2525031,
          0.24438241,
          0.24341974,
          0.24859923,
          0.24796914,
          0.24037662,
          0.24506056,
          0.24206346,
          0.24645007,
          0.2472273,
          0.24120398,
          0.24820597,
          0.24948907,
          0.24396373,
          0.253544,
          0.24409907,
          0.24401262,
          0.24307731,
          0.2444558,
          0.24203092,
          0.2482307,
          0.24006288,
          0.23809974,
          0.24517027,
          0.24385901,
          0.24486037,
          0.24581599,
          0.24161902,
          0.24278484,
          0.24147107,
          0.24130286,
          0.24130888,
          0.24111563,
          0.24319904,
          0.24237199,
          0.24440673,
          0.24252298,
          0.24318086,
          0.24314013,
          0.25063175,
          0.24952672,
          0.24099281,
          0.24602468,
          0.24636292,
          0.23975118,
          0.24414203,
          0.24622044,
          0.24760458,
          0.2479446,
          0.24793504,
          0.24349192,
          0.24290445,
          0.24724266,
          0.24640746,
          0.24355267,
          0.24952088,
          0.2513832,
          0.25126526,
          0.2373585,
          0.2363946,
          0.24315841,
          0.24202853,
          0.24491526,
          0.24267365,
          0.24245878,
          0.2441974,
          0.2469117,
          0.24676833,
          0.24682951,
          0.24606523,
          0.24676186,
          0.24129297,
          0.24058717,
          0.24074124,
          0.2445662,
          0.24507235,
          0.24470101,
          0.242066,
          0.24189727,
          0.24790464,
          0.24817675,
          0.25158098,
          0.24930635,
          0.24990474,
          0.25027272,
          0.25001577,
          0.24413586,
          0.2440242,
          0.24472868,
          0.24492815,
          0.24525766,
          0.24582832,
          0.24249613,
          0.24238543,
          0.2428829,
          0.24292752,
          0.2532544,
          0.25324923,
          0.25359148,
          0.24414878,
          0.24433729,
          0.24402168,
          0.24422948,
          0.24058631,
          0.23974213,
          0.24061088,
          0.24547988,
          0.24476485,
          0.24456649,
          0.24435104,
          0.23860535,
          0.24508283,
          0.2518401,
          0.25097954,
          0.24342944,
          0.24594308,
          0.24661791,
          0.24461423,
          0.247526,
          0.25001904,
          0.25047502,
          0.24230258,
          0.2380396,
          0.24073827,
          0.24024747,
          0.23984201,
          0.23991309,
          0.24026932,
          0.23934184,
          0.23963577,
          0.24019806,
          0.23986557,
          0.24050292,
          0.23992382
         ],
         "y0": " ",
         "yaxis": "y"
        },
        {
         "alignmentgroup": "True",
         "box": {
          "visible": false
         },
         "hovertemplate": "Classe=%{x}<br>Probabilidade=%{y}<extra></extra>",
         "legendgroup": "Meio semi-seca (maravalha)",
         "marker": {
          "color": "#00cc96"
         },
         "name": "Meio semi-seca (maravalha)",
         "offsetgroup": "Meio semi-seca (maravalha)",
         "orientation": "v",
         "scalegroup": "True",
         "showlegend": false,
         "type": "violin",
         "x": [
          "Meio semi-seca (maravalha)",
          "Meio semi-seca (maravalha)",
          "Meio semi-seca (maravalha)",
          "Meio semi-seca (maravalha)",
          "Meio semi-seca (maravalha)",
          "Meio semi-seca (maravalha)",
          "Meio semi-seca (maravalha)",
          "Meio semi-seca (maravalha)",
          "Meio semi-seca (maravalha)",
          "Meio semi-seca (maravalha)",
          "Meio semi-seca (maravalha)",
          "Meio semi-seca (maravalha)",
          "Meio semi-seca (maravalha)",
          "Meio semi-seca (maravalha)",
          "Meio semi-seca (maravalha)",
          "Meio semi-seca (maravalha)",
          "Meio semi-seca (maravalha)",
          "Meio semi-seca (maravalha)",
          "Meio semi-seca (maravalha)",
          "Meio semi-seca (maravalha)",
          "Meio semi-seca (maravalha)",
          "Meio semi-seca (maravalha)",
          "Meio semi-seca (maravalha)",
          "Meio semi-seca (maravalha)",
          "Meio semi-seca (maravalha)",
          "Meio semi-seca (maravalha)",
          "Meio semi-seca (maravalha)",
          "Meio semi-seca (maravalha)",
          "Meio semi-seca (maravalha)",
          "Meio semi-seca (maravalha)",
          "Meio semi-seca (maravalha)",
          "Meio semi-seca (maravalha)",
          "Meio semi-seca (maravalha)",
          "Meio semi-seca (maravalha)",
          "Meio semi-seca (maravalha)",
          "Meio semi-seca (maravalha)",
          "Meio semi-seca (maravalha)",
          "Meio semi-seca (maravalha)",
          "Meio semi-seca (maravalha)",
          "Meio semi-seca (maravalha)",
          "Meio semi-seca (maravalha)",
          "Meio semi-seca (maravalha)",
          "Meio semi-seca (maravalha)",
          "Meio semi-seca (maravalha)",
          "Meio semi-seca (maravalha)",
          "Meio semi-seca (maravalha)",
          "Meio semi-seca (maravalha)",
          "Meio semi-seca (maravalha)",
          "Meio semi-seca (maravalha)",
          "Meio semi-seca (maravalha)",
          "Meio semi-seca (maravalha)",
          "Meio semi-seca (maravalha)",
          "Meio semi-seca (maravalha)",
          "Meio semi-seca (maravalha)",
          "Meio semi-seca (maravalha)",
          "Meio semi-seca (maravalha)",
          "Meio semi-seca (maravalha)",
          "Meio semi-seca (maravalha)",
          "Meio semi-seca (maravalha)",
          "Meio semi-seca (maravalha)",
          "Meio semi-seca (maravalha)",
          "Meio semi-seca (maravalha)",
          "Meio semi-seca (maravalha)",
          "Meio semi-seca (maravalha)",
          "Meio semi-seca (maravalha)",
          "Meio semi-seca (maravalha)",
          "Meio semi-seca (maravalha)",
          "Meio semi-seca (maravalha)",
          "Meio semi-seca (maravalha)",
          "Meio semi-seca (maravalha)",
          "Meio semi-seca (maravalha)",
          "Meio semi-seca (maravalha)",
          "Meio semi-seca (maravalha)",
          "Meio semi-seca (maravalha)",
          "Meio semi-seca (maravalha)",
          "Meio semi-seca (maravalha)",
          "Meio semi-seca (maravalha)",
          "Meio semi-seca (maravalha)",
          "Meio semi-seca (maravalha)",
          "Meio semi-seca (maravalha)",
          "Meio semi-seca (maravalha)",
          "Meio semi-seca (maravalha)",
          "Meio semi-seca (maravalha)",
          "Meio semi-seca (maravalha)",
          "Meio semi-seca (maravalha)",
          "Meio semi-seca (maravalha)",
          "Meio semi-seca (maravalha)",
          "Meio semi-seca (maravalha)",
          "Meio semi-seca (maravalha)",
          "Meio semi-seca (maravalha)",
          "Meio semi-seca (maravalha)",
          "Meio semi-seca (maravalha)",
          "Meio semi-seca (maravalha)",
          "Meio semi-seca (maravalha)",
          "Meio semi-seca (maravalha)",
          "Meio semi-seca (maravalha)",
          "Meio semi-seca (maravalha)",
          "Meio semi-seca (maravalha)",
          "Meio semi-seca (maravalha)",
          "Meio semi-seca (maravalha)",
          "Meio semi-seca (maravalha)",
          "Meio semi-seca (maravalha)",
          "Meio semi-seca (maravalha)",
          "Meio semi-seca (maravalha)",
          "Meio semi-seca (maravalha)",
          "Meio semi-seca (maravalha)",
          "Meio semi-seca (maravalha)",
          "Meio semi-seca (maravalha)",
          "Meio semi-seca (maravalha)",
          "Meio semi-seca (maravalha)",
          "Meio semi-seca (maravalha)",
          "Meio semi-seca (maravalha)",
          "Meio semi-seca (maravalha)",
          "Meio semi-seca (maravalha)",
          "Meio semi-seca (maravalha)",
          "Meio semi-seca (maravalha)",
          "Meio semi-seca (maravalha)",
          "Meio semi-seca (maravalha)",
          "Meio semi-seca (maravalha)",
          "Meio semi-seca (maravalha)",
          "Meio semi-seca (maravalha)",
          "Meio semi-seca (maravalha)",
          "Meio semi-seca (maravalha)",
          "Meio semi-seca (maravalha)",
          "Meio semi-seca (maravalha)",
          "Meio semi-seca (maravalha)",
          "Meio semi-seca (maravalha)",
          "Meio semi-seca (maravalha)",
          "Meio semi-seca (maravalha)",
          "Meio semi-seca (maravalha)",
          "Meio semi-seca (maravalha)",
          "Meio semi-seca (maravalha)",
          "Meio semi-seca (maravalha)",
          "Meio semi-seca (maravalha)",
          "Meio semi-seca (maravalha)",
          "Meio semi-seca (maravalha)",
          "Meio semi-seca (maravalha)",
          "Meio semi-seca (maravalha)",
          "Meio semi-seca (maravalha)",
          "Meio semi-seca (maravalha)",
          "Meio semi-seca (maravalha)",
          "Meio semi-seca (maravalha)",
          "Meio semi-seca (maravalha)",
          "Meio semi-seca (maravalha)",
          "Meio semi-seca (maravalha)",
          "Meio semi-seca (maravalha)",
          "Meio semi-seca (maravalha)",
          "Meio semi-seca (maravalha)",
          "Meio semi-seca (maravalha)",
          "Meio semi-seca (maravalha)",
          "Meio semi-seca (maravalha)",
          "Meio semi-seca (maravalha)",
          "Meio semi-seca (maravalha)",
          "Meio semi-seca (maravalha)",
          "Meio semi-seca (maravalha)",
          "Meio semi-seca (maravalha)",
          "Meio semi-seca (maravalha)",
          "Meio semi-seca (maravalha)",
          "Meio semi-seca (maravalha)",
          "Meio semi-seca (maravalha)",
          "Meio semi-seca (maravalha)",
          "Meio semi-seca (maravalha)",
          "Meio semi-seca (maravalha)",
          "Meio semi-seca (maravalha)",
          "Meio semi-seca (maravalha)",
          "Meio semi-seca (maravalha)",
          "Meio semi-seca (maravalha)",
          "Meio semi-seca (maravalha)",
          "Meio semi-seca (maravalha)",
          "Meio semi-seca (maravalha)",
          "Meio semi-seca (maravalha)",
          "Meio semi-seca (maravalha)",
          "Meio semi-seca (maravalha)",
          "Meio semi-seca (maravalha)",
          "Meio semi-seca (maravalha)",
          "Meio semi-seca (maravalha)",
          "Meio semi-seca (maravalha)",
          "Meio semi-seca (maravalha)",
          "Meio semi-seca (maravalha)",
          "Meio semi-seca (maravalha)",
          "Meio semi-seca (maravalha)",
          "Meio semi-seca (maravalha)",
          "Meio semi-seca (maravalha)",
          "Meio semi-seca (maravalha)",
          "Meio semi-seca (maravalha)",
          "Meio semi-seca (maravalha)",
          "Meio semi-seca (maravalha)",
          "Meio semi-seca (maravalha)",
          "Meio semi-seca (maravalha)",
          "Meio semi-seca (maravalha)",
          "Meio semi-seca (maravalha)",
          "Meio semi-seca (maravalha)",
          "Meio semi-seca (maravalha)",
          "Meio semi-seca (maravalha)",
          "Meio semi-seca (maravalha)",
          "Meio semi-seca (maravalha)",
          "Meio semi-seca (maravalha)",
          "Meio semi-seca (maravalha)",
          "Meio semi-seca (maravalha)",
          "Meio semi-seca (maravalha)"
         ],
         "x0": " ",
         "xaxis": "x",
         "y": [
          0.21321535,
          0.21365349,
          0.21379621,
          0.21388155,
          0.21336211,
          0.21353169,
          0.21355651,
          0.21783942,
          0.2170346,
          0.2208212,
          0.22259158,
          0.20780006,
          0.20694755,
          0.2081774,
          0.20745145,
          0.20343257,
          0.21226658,
          0.22177967,
          0.22235167,
          0.21778387,
          0.21879624,
          0.21792515,
          0.22421215,
          0.22043443,
          0.2204649,
          0.22044043,
          0.22081879,
          0.21992019,
          0.22481646,
          0.225336,
          0.21107775,
          0.22797401,
          0.23130912,
          0.24298938,
          0.2231903,
          0.22505051,
          0.23196147,
          0.23293333,
          0.23084502,
          0.23013568,
          0.22675636,
          0.223161,
          0.22452079,
          0.23074163,
          0.22391781,
          0.22366837,
          0.21479441,
          0.22118102,
          0.22507031,
          0.23648237,
          0.2330543,
          0.22589874,
          0.22917783,
          0.22116344,
          0.22486152,
          0.22571579,
          0.22776692,
          0.22914514,
          0.22689237,
          0.21994242,
          0.23735148,
          0.23204345,
          0.2361961,
          0.22757703,
          0.2293136,
          0.2306774,
          0.23453638,
          0.22383544,
          0.22252287,
          0.23044036,
          0.22955649,
          0.2182875,
          0.22486126,
          0.2219644,
          0.22690727,
          0.22930157,
          0.21943204,
          0.22953689,
          0.23455964,
          0.22405946,
          0.23890696,
          0.22160222,
          0.22160767,
          0.22017394,
          0.2221345,
          0.22093159,
          0.23140202,
          0.2180399,
          0.21726723,
          0.226787,
          0.22423442,
          0.22703658,
          0.22874644,
          0.22032034,
          0.22295995,
          0.22224623,
          0.2218423,
          0.22054414,
          0.22037205,
          0.22370484,
          0.22248802,
          0.2269995,
          0.22199725,
          0.22477575,
          0.22469568,
          0.23406184,
          0.23141606,
          0.21859968,
          0.22790362,
          0.22852305,
          0.2188554,
          0.22329882,
          0.22716422,
          0.23088342,
          0.23131171,
          0.23142718,
          0.22317165,
          0.22209679,
          0.2290188,
          0.22761925,
          0.22381239,
          0.23136723,
          0.2362756,
          0.2360926,
          0.2135883,
          0.21257299,
          0.22223137,
          0.22082692,
          0.22411823,
          0.21908996,
          0.22075099,
          0.22439954,
          0.22906533,
          0.22897354,
          0.22942807,
          0.22863199,
          0.2302258,
          0.22171398,
          0.22052072,
          0.2204785,
          0.22556528,
          0.22619833,
          0.22604965,
          0.22147456,
          0.22061627,
          0.2292424,
          0.22940595,
          0.23856625,
          0.23092149,
          0.23220788,
          0.23340704,
          0.2330267,
          0.22410423,
          0.22453734,
          0.2255344,
          0.22611362,
          0.22639479,
          0.2269952,
          0.2215661,
          0.22120872,
          0.22213233,
          0.22253236,
          0.2395021,
          0.23959672,
          0.24021131,
          0.22573997,
          0.22562161,
          0.22513121,
          0.22565755,
          0.2207525,
          0.21753716,
          0.21898174,
          0.22516213,
          0.22740121,
          0.22696817,
          0.22669266,
          0.21541846,
          0.22622295,
          0.2374159,
          0.23596846,
          0.22243397,
          0.22727686,
          0.2284815,
          0.22571461,
          0.22891729,
          0.23256524,
          0.23326889,
          0.21976775,
          0.21369629,
          0.21661748,
          0.21681713,
          0.21648294,
          0.21671924,
          0.21709032,
          0.2159068,
          0.21615323,
          0.21705371,
          0.21659207,
          0.21740584,
          0.21680169
         ],
         "y0": " ",
         "yaxis": "y"
        },
        {
         "alignmentgroup": "True",
         "box": {
          "visible": false
         },
         "hovertemplate": "Classe=%{x}<br>Probabilidade=%{y}<extra></extra>",
         "legendgroup": "Casca de amendoim",
         "marker": {
          "color": "#ab63fa"
         },
         "name": "Casca de amendoim",
         "offsetgroup": "Casca de amendoim",
         "orientation": "v",
         "scalegroup": "True",
         "showlegend": false,
         "type": "violin",
         "x": [
          "Casca de amendoim",
          "Casca de amendoim",
          "Casca de amendoim",
          "Casca de amendoim",
          "Casca de amendoim",
          "Casca de amendoim",
          "Casca de amendoim",
          "Casca de amendoim",
          "Casca de amendoim",
          "Casca de amendoim",
          "Casca de amendoim",
          "Casca de amendoim",
          "Casca de amendoim",
          "Casca de amendoim",
          "Casca de amendoim",
          "Casca de amendoim",
          "Casca de amendoim",
          "Casca de amendoim",
          "Casca de amendoim",
          "Casca de amendoim",
          "Casca de amendoim",
          "Casca de amendoim",
          "Casca de amendoim",
          "Casca de amendoim",
          "Casca de amendoim",
          "Casca de amendoim",
          "Casca de amendoim",
          "Casca de amendoim",
          "Casca de amendoim",
          "Casca de amendoim",
          "Casca de amendoim",
          "Casca de amendoim",
          "Casca de amendoim",
          "Casca de amendoim",
          "Casca de amendoim",
          "Casca de amendoim",
          "Casca de amendoim",
          "Casca de amendoim",
          "Casca de amendoim",
          "Casca de amendoim",
          "Casca de amendoim",
          "Casca de amendoim",
          "Casca de amendoim",
          "Casca de amendoim",
          "Casca de amendoim",
          "Casca de amendoim",
          "Casca de amendoim",
          "Casca de amendoim",
          "Casca de amendoim",
          "Casca de amendoim",
          "Casca de amendoim",
          "Casca de amendoim",
          "Casca de amendoim",
          "Casca de amendoim",
          "Casca de amendoim",
          "Casca de amendoim",
          "Casca de amendoim",
          "Casca de amendoim",
          "Casca de amendoim",
          "Casca de amendoim",
          "Casca de amendoim",
          "Casca de amendoim",
          "Casca de amendoim",
          "Casca de amendoim",
          "Casca de amendoim",
          "Casca de amendoim",
          "Casca de amendoim",
          "Casca de amendoim",
          "Casca de amendoim",
          "Casca de amendoim",
          "Casca de amendoim",
          "Casca de amendoim",
          "Casca de amendoim",
          "Casca de amendoim",
          "Casca de amendoim",
          "Casca de amendoim",
          "Casca de amendoim",
          "Casca de amendoim",
          "Casca de amendoim",
          "Casca de amendoim",
          "Casca de amendoim",
          "Casca de amendoim",
          "Casca de amendoim",
          "Casca de amendoim",
          "Casca de amendoim",
          "Casca de amendoim",
          "Casca de amendoim",
          "Casca de amendoim",
          "Casca de amendoim",
          "Casca de amendoim",
          "Casca de amendoim",
          "Casca de amendoim",
          "Casca de amendoim",
          "Casca de amendoim",
          "Casca de amendoim",
          "Casca de amendoim",
          "Casca de amendoim",
          "Casca de amendoim",
          "Casca de amendoim",
          "Casca de amendoim",
          "Casca de amendoim",
          "Casca de amendoim",
          "Casca de amendoim",
          "Casca de amendoim",
          "Casca de amendoim",
          "Casca de amendoim",
          "Casca de amendoim",
          "Casca de amendoim",
          "Casca de amendoim",
          "Casca de amendoim",
          "Casca de amendoim",
          "Casca de amendoim",
          "Casca de amendoim",
          "Casca de amendoim",
          "Casca de amendoim",
          "Casca de amendoim",
          "Casca de amendoim",
          "Casca de amendoim",
          "Casca de amendoim",
          "Casca de amendoim",
          "Casca de amendoim",
          "Casca de amendoim",
          "Casca de amendoim",
          "Casca de amendoim",
          "Casca de amendoim",
          "Casca de amendoim",
          "Casca de amendoim",
          "Casca de amendoim",
          "Casca de amendoim",
          "Casca de amendoim",
          "Casca de amendoim",
          "Casca de amendoim",
          "Casca de amendoim",
          "Casca de amendoim",
          "Casca de amendoim",
          "Casca de amendoim",
          "Casca de amendoim",
          "Casca de amendoim",
          "Casca de amendoim",
          "Casca de amendoim",
          "Casca de amendoim",
          "Casca de amendoim",
          "Casca de amendoim",
          "Casca de amendoim",
          "Casca de amendoim",
          "Casca de amendoim",
          "Casca de amendoim",
          "Casca de amendoim",
          "Casca de amendoim",
          "Casca de amendoim",
          "Casca de amendoim",
          "Casca de amendoim",
          "Casca de amendoim",
          "Casca de amendoim",
          "Casca de amendoim",
          "Casca de amendoim",
          "Casca de amendoim",
          "Casca de amendoim",
          "Casca de amendoim",
          "Casca de amendoim",
          "Casca de amendoim",
          "Casca de amendoim",
          "Casca de amendoim",
          "Casca de amendoim",
          "Casca de amendoim",
          "Casca de amendoim",
          "Casca de amendoim",
          "Casca de amendoim",
          "Casca de amendoim",
          "Casca de amendoim",
          "Casca de amendoim",
          "Casca de amendoim",
          "Casca de amendoim",
          "Casca de amendoim",
          "Casca de amendoim",
          "Casca de amendoim",
          "Casca de amendoim",
          "Casca de amendoim",
          "Casca de amendoim",
          "Casca de amendoim",
          "Casca de amendoim",
          "Casca de amendoim",
          "Casca de amendoim",
          "Casca de amendoim",
          "Casca de amendoim",
          "Casca de amendoim",
          "Casca de amendoim",
          "Casca de amendoim",
          "Casca de amendoim",
          "Casca de amendoim",
          "Casca de amendoim",
          "Casca de amendoim",
          "Casca de amendoim",
          "Casca de amendoim",
          "Casca de amendoim",
          "Casca de amendoim",
          "Casca de amendoim",
          "Casca de amendoim",
          "Casca de amendoim",
          "Casca de amendoim"
         ],
         "x0": " ",
         "xaxis": "x",
         "y": [
          0.35690987,
          0.35558695,
          0.35539475,
          0.35495934,
          0.3561626,
          0.35568118,
          0.35542813,
          0.34671983,
          0.34996647,
          0.34014806,
          0.33664823,
          0.37038714,
          0.3723483,
          0.36951846,
          0.37106517,
          0.38161364,
          0.36193225,
          0.33715844,
          0.33586413,
          0.34811756,
          0.34564254,
          0.3464486,
          0.33329836,
          0.34159714,
          0.34058398,
          0.34076545,
          0.33951664,
          0.342478,
          0.33159652,
          0.33054823,
          0.36051565,
          0.3247243,
          0.31810027,
          0.29388073,
          0.33437362,
          0.3305162,
          0.3162304,
          0.31464064,
          0.31740847,
          0.31658846,
          0.3251184,
          0.33474416,
          0.3323769,
          0.31860715,
          0.3325189,
          0.33340484,
          0.3527404,
          0.3402497,
          0.33061653,
          0.30758697,
          0.31237212,
          0.32741934,
          0.32228318,
          0.34085256,
          0.33200017,
          0.3289982,
          0.32462084,
          0.32159033,
          0.32537562,
          0.3412754,
          0.30531186,
          0.31589147,
          0.3071001,
          0.32510027,
          0.32123193,
          0.3182546,
          0.3117211,
          0.33315504,
          0.33572498,
          0.31884727,
          0.3207139,
          0.34449008,
          0.3310012,
          0.33686867,
          0.3269406,
          0.32249865,
          0.34432083,
          0.32043684,
          0.30644602,
          0.33197126,
          0.30003318,
          0.33862707,
          0.33852574,
          0.3417767,
          0.33736864,
          0.33994576,
          0.3161095,
          0.34574276,
          0.34650066,
          0.32733992,
          0.33242896,
          0.32575002,
          0.32217982,
          0.33965516,
          0.33454236,
          0.33476135,
          0.3355884,
          0.3394144,
          0.33937618,
          0.33276147,
          0.33507663,
          0.3247381,
          0.33559892,
          0.32948387,
          0.329729,
          0.31110233,
          0.31819785,
          0.34552386,
          0.3245974,
          0.32332805,
          0.3437427,
          0.33451805,
          0.32642084,
          0.31862193,
          0.3177101,
          0.31754535,
          0.33429906,
          0.33667985,
          0.32194218,
          0.32481685,
          0.33037525,
          0.3168747,
          0.30761304,
          0.30808032,
          0.35285693,
          0.35476348,
          0.3367874,
          0.33933806,
          0.33244166,
          0.34542194,
          0.3407077,
          0.3310723,
          0.3218881,
          0.32209086,
          0.32114354,
          0.3224576,
          0.31882572,
          0.3367846,
          0.3401521,
          0.34028986,
          0.32886532,
          0.32772157,
          0.32776317,
          0.3381141,
          0.3396087,
          0.32080412,
          0.3207237,
          0.29976138,
          0.31859446,
          0.31590822,
          0.31381178,
          0.31451753,
          0.33123714,
          0.33081076,
          0.32867095,
          0.32717156,
          0.32772383,
          0.32646036,
          0.33783722,
          0.3386712,
          0.3366622,
          0.3358223,
          0.29892418,
          0.2986333,
          0.29724523,
          0.3292603,
          0.3293459,
          0.33051682,
          0.32936937,
          0.33880186,
          0.34786332,
          0.34467226,
          0.33077878,
          0.32330263,
          0.32425544,
          0.32470298,
          0.35151723,
          0.32806644,
          0.3042423,
          0.30722538,
          0.33549163,
          0.3254755,
          0.32285023,
          0.3292603,
          0.3225538,
          0.31596392,
          0.31337243,
          0.34316757,
          0.35737222,
          0.3513587,
          0.34978336,
          0.35062993,
          0.34993643,
          0.3492097,
          0.35178104,
          0.35097376,
          0.3492351,
          0.3501244,
          0.34846032,
          0.3496449
         ],
         "y0": " ",
         "yaxis": "y"
        }
       ],
       "layout": {
        "font": {
         "color": "black",
         "family": "Times",
         "size": 36
        },
        "height": 800,
        "legend": {
         "title": {
          "text": "Classe"
         },
         "tracegroupgap": 0
        },
        "margin": {
         "t": 60
        },
        "plot_bgcolor": "white",
        "template": {
         "data": {
          "bar": [
           {
            "error_x": {
             "color": "#2a3f5f"
            },
            "error_y": {
             "color": "#2a3f5f"
            },
            "marker": {
             "line": {
              "color": "#E5ECF6",
              "width": 0.5
             },
             "pattern": {
              "fillmode": "overlay",
              "size": 10,
              "solidity": 0.2
             }
            },
            "type": "bar"
           }
          ],
          "barpolar": [
           {
            "marker": {
             "line": {
              "color": "#E5ECF6",
              "width": 0.5
             },
             "pattern": {
              "fillmode": "overlay",
              "size": 10,
              "solidity": 0.2
             }
            },
            "type": "barpolar"
           }
          ],
          "carpet": [
           {
            "aaxis": {
             "endlinecolor": "#2a3f5f",
             "gridcolor": "white",
             "linecolor": "white",
             "minorgridcolor": "white",
             "startlinecolor": "#2a3f5f"
            },
            "baxis": {
             "endlinecolor": "#2a3f5f",
             "gridcolor": "white",
             "linecolor": "white",
             "minorgridcolor": "white",
             "startlinecolor": "#2a3f5f"
            },
            "type": "carpet"
           }
          ],
          "choropleth": [
           {
            "colorbar": {
             "outlinewidth": 0,
             "ticks": ""
            },
            "type": "choropleth"
           }
          ],
          "contour": [
           {
            "colorbar": {
             "outlinewidth": 0,
             "ticks": ""
            },
            "colorscale": [
             [
              0,
              "#0d0887"
             ],
             [
              0.1111111111111111,
              "#46039f"
             ],
             [
              0.2222222222222222,
              "#7201a8"
             ],
             [
              0.3333333333333333,
              "#9c179e"
             ],
             [
              0.4444444444444444,
              "#bd3786"
             ],
             [
              0.5555555555555556,
              "#d8576b"
             ],
             [
              0.6666666666666666,
              "#ed7953"
             ],
             [
              0.7777777777777778,
              "#fb9f3a"
             ],
             [
              0.8888888888888888,
              "#fdca26"
             ],
             [
              1,
              "#f0f921"
             ]
            ],
            "type": "contour"
           }
          ],
          "contourcarpet": [
           {
            "colorbar": {
             "outlinewidth": 0,
             "ticks": ""
            },
            "type": "contourcarpet"
           }
          ],
          "heatmap": [
           {
            "colorbar": {
             "outlinewidth": 0,
             "ticks": ""
            },
            "colorscale": [
             [
              0,
              "#0d0887"
             ],
             [
              0.1111111111111111,
              "#46039f"
             ],
             [
              0.2222222222222222,
              "#7201a8"
             ],
             [
              0.3333333333333333,
              "#9c179e"
             ],
             [
              0.4444444444444444,
              "#bd3786"
             ],
             [
              0.5555555555555556,
              "#d8576b"
             ],
             [
              0.6666666666666666,
              "#ed7953"
             ],
             [
              0.7777777777777778,
              "#fb9f3a"
             ],
             [
              0.8888888888888888,
              "#fdca26"
             ],
             [
              1,
              "#f0f921"
             ]
            ],
            "type": "heatmap"
           }
          ],
          "heatmapgl": [
           {
            "colorbar": {
             "outlinewidth": 0,
             "ticks": ""
            },
            "colorscale": [
             [
              0,
              "#0d0887"
             ],
             [
              0.1111111111111111,
              "#46039f"
             ],
             [
              0.2222222222222222,
              "#7201a8"
             ],
             [
              0.3333333333333333,
              "#9c179e"
             ],
             [
              0.4444444444444444,
              "#bd3786"
             ],
             [
              0.5555555555555556,
              "#d8576b"
             ],
             [
              0.6666666666666666,
              "#ed7953"
             ],
             [
              0.7777777777777778,
              "#fb9f3a"
             ],
             [
              0.8888888888888888,
              "#fdca26"
             ],
             [
              1,
              "#f0f921"
             ]
            ],
            "type": "heatmapgl"
           }
          ],
          "histogram": [
           {
            "marker": {
             "pattern": {
              "fillmode": "overlay",
              "size": 10,
              "solidity": 0.2
             }
            },
            "type": "histogram"
           }
          ],
          "histogram2d": [
           {
            "colorbar": {
             "outlinewidth": 0,
             "ticks": ""
            },
            "colorscale": [
             [
              0,
              "#0d0887"
             ],
             [
              0.1111111111111111,
              "#46039f"
             ],
             [
              0.2222222222222222,
              "#7201a8"
             ],
             [
              0.3333333333333333,
              "#9c179e"
             ],
             [
              0.4444444444444444,
              "#bd3786"
             ],
             [
              0.5555555555555556,
              "#d8576b"
             ],
             [
              0.6666666666666666,
              "#ed7953"
             ],
             [
              0.7777777777777778,
              "#fb9f3a"
             ],
             [
              0.8888888888888888,
              "#fdca26"
             ],
             [
              1,
              "#f0f921"
             ]
            ],
            "type": "histogram2d"
           }
          ],
          "histogram2dcontour": [
           {
            "colorbar": {
             "outlinewidth": 0,
             "ticks": ""
            },
            "colorscale": [
             [
              0,
              "#0d0887"
             ],
             [
              0.1111111111111111,
              "#46039f"
             ],
             [
              0.2222222222222222,
              "#7201a8"
             ],
             [
              0.3333333333333333,
              "#9c179e"
             ],
             [
              0.4444444444444444,
              "#bd3786"
             ],
             [
              0.5555555555555556,
              "#d8576b"
             ],
             [
              0.6666666666666666,
              "#ed7953"
             ],
             [
              0.7777777777777778,
              "#fb9f3a"
             ],
             [
              0.8888888888888888,
              "#fdca26"
             ],
             [
              1,
              "#f0f921"
             ]
            ],
            "type": "histogram2dcontour"
           }
          ],
          "mesh3d": [
           {
            "colorbar": {
             "outlinewidth": 0,
             "ticks": ""
            },
            "type": "mesh3d"
           }
          ],
          "parcoords": [
           {
            "line": {
             "colorbar": {
              "outlinewidth": 0,
              "ticks": ""
             }
            },
            "type": "parcoords"
           }
          ],
          "pie": [
           {
            "automargin": true,
            "type": "pie"
           }
          ],
          "scatter": [
           {
            "fillpattern": {
             "fillmode": "overlay",
             "size": 10,
             "solidity": 0.2
            },
            "type": "scatter"
           }
          ],
          "scatter3d": [
           {
            "line": {
             "colorbar": {
              "outlinewidth": 0,
              "ticks": ""
             }
            },
            "marker": {
             "colorbar": {
              "outlinewidth": 0,
              "ticks": ""
             }
            },
            "type": "scatter3d"
           }
          ],
          "scattercarpet": [
           {
            "marker": {
             "colorbar": {
              "outlinewidth": 0,
              "ticks": ""
             }
            },
            "type": "scattercarpet"
           }
          ],
          "scattergeo": [
           {
            "marker": {
             "colorbar": {
              "outlinewidth": 0,
              "ticks": ""
             }
            },
            "type": "scattergeo"
           }
          ],
          "scattergl": [
           {
            "marker": {
             "colorbar": {
              "outlinewidth": 0,
              "ticks": ""
             }
            },
            "type": "scattergl"
           }
          ],
          "scattermapbox": [
           {
            "marker": {
             "colorbar": {
              "outlinewidth": 0,
              "ticks": ""
             }
            },
            "type": "scattermapbox"
           }
          ],
          "scatterpolar": [
           {
            "marker": {
             "colorbar": {
              "outlinewidth": 0,
              "ticks": ""
             }
            },
            "type": "scatterpolar"
           }
          ],
          "scatterpolargl": [
           {
            "marker": {
             "colorbar": {
              "outlinewidth": 0,
              "ticks": ""
             }
            },
            "type": "scatterpolargl"
           }
          ],
          "scatterternary": [
           {
            "marker": {
             "colorbar": {
              "outlinewidth": 0,
              "ticks": ""
             }
            },
            "type": "scatterternary"
           }
          ],
          "surface": [
           {
            "colorbar": {
             "outlinewidth": 0,
             "ticks": ""
            },
            "colorscale": [
             [
              0,
              "#0d0887"
             ],
             [
              0.1111111111111111,
              "#46039f"
             ],
             [
              0.2222222222222222,
              "#7201a8"
             ],
             [
              0.3333333333333333,
              "#9c179e"
             ],
             [
              0.4444444444444444,
              "#bd3786"
             ],
             [
              0.5555555555555556,
              "#d8576b"
             ],
             [
              0.6666666666666666,
              "#ed7953"
             ],
             [
              0.7777777777777778,
              "#fb9f3a"
             ],
             [
              0.8888888888888888,
              "#fdca26"
             ],
             [
              1,
              "#f0f921"
             ]
            ],
            "type": "surface"
           }
          ],
          "table": [
           {
            "cells": {
             "fill": {
              "color": "#EBF0F8"
             },
             "line": {
              "color": "white"
             }
            },
            "header": {
             "fill": {
              "color": "#C8D4E3"
             },
             "line": {
              "color": "white"
             }
            },
            "type": "table"
           }
          ]
         },
         "layout": {
          "annotationdefaults": {
           "arrowcolor": "#2a3f5f",
           "arrowhead": 0,
           "arrowwidth": 1
          },
          "autotypenumbers": "strict",
          "coloraxis": {
           "colorbar": {
            "outlinewidth": 0,
            "ticks": ""
           }
          },
          "colorscale": {
           "diverging": [
            [
             0,
             "#8e0152"
            ],
            [
             0.1,
             "#c51b7d"
            ],
            [
             0.2,
             "#de77ae"
            ],
            [
             0.3,
             "#f1b6da"
            ],
            [
             0.4,
             "#fde0ef"
            ],
            [
             0.5,
             "#f7f7f7"
            ],
            [
             0.6,
             "#e6f5d0"
            ],
            [
             0.7,
             "#b8e186"
            ],
            [
             0.8,
             "#7fbc41"
            ],
            [
             0.9,
             "#4d9221"
            ],
            [
             1,
             "#276419"
            ]
           ],
           "sequential": [
            [
             0,
             "#0d0887"
            ],
            [
             0.1111111111111111,
             "#46039f"
            ],
            [
             0.2222222222222222,
             "#7201a8"
            ],
            [
             0.3333333333333333,
             "#9c179e"
            ],
            [
             0.4444444444444444,
             "#bd3786"
            ],
            [
             0.5555555555555556,
             "#d8576b"
            ],
            [
             0.6666666666666666,
             "#ed7953"
            ],
            [
             0.7777777777777778,
             "#fb9f3a"
            ],
            [
             0.8888888888888888,
             "#fdca26"
            ],
            [
             1,
             "#f0f921"
            ]
           ],
           "sequentialminus": [
            [
             0,
             "#0d0887"
            ],
            [
             0.1111111111111111,
             "#46039f"
            ],
            [
             0.2222222222222222,
             "#7201a8"
            ],
            [
             0.3333333333333333,
             "#9c179e"
            ],
            [
             0.4444444444444444,
             "#bd3786"
            ],
            [
             0.5555555555555556,
             "#d8576b"
            ],
            [
             0.6666666666666666,
             "#ed7953"
            ],
            [
             0.7777777777777778,
             "#fb9f3a"
            ],
            [
             0.8888888888888888,
             "#fdca26"
            ],
            [
             1,
             "#f0f921"
            ]
           ]
          },
          "colorway": [
           "#636efa",
           "#EF553B",
           "#00cc96",
           "#ab63fa",
           "#FFA15A",
           "#19d3f3",
           "#FF6692",
           "#B6E880",
           "#FF97FF",
           "#FECB52"
          ],
          "font": {
           "color": "#2a3f5f"
          },
          "geo": {
           "bgcolor": "white",
           "lakecolor": "white",
           "landcolor": "#E5ECF6",
           "showlakes": true,
           "showland": true,
           "subunitcolor": "white"
          },
          "hoverlabel": {
           "align": "left"
          },
          "hovermode": "closest",
          "mapbox": {
           "style": "light"
          },
          "paper_bgcolor": "white",
          "plot_bgcolor": "#E5ECF6",
          "polar": {
           "angularaxis": {
            "gridcolor": "white",
            "linecolor": "white",
            "ticks": ""
           },
           "bgcolor": "#E5ECF6",
           "radialaxis": {
            "gridcolor": "white",
            "linecolor": "white",
            "ticks": ""
           }
          },
          "scene": {
           "xaxis": {
            "backgroundcolor": "#E5ECF6",
            "gridcolor": "white",
            "gridwidth": 2,
            "linecolor": "white",
            "showbackground": true,
            "ticks": "",
            "zerolinecolor": "white"
           },
           "yaxis": {
            "backgroundcolor": "#E5ECF6",
            "gridcolor": "white",
            "gridwidth": 2,
            "linecolor": "white",
            "showbackground": true,
            "ticks": "",
            "zerolinecolor": "white"
           },
           "zaxis": {
            "backgroundcolor": "#E5ECF6",
            "gridcolor": "white",
            "gridwidth": 2,
            "linecolor": "white",
            "showbackground": true,
            "ticks": "",
            "zerolinecolor": "white"
           }
          },
          "shapedefaults": {
           "line": {
            "color": "#2a3f5f"
           }
          },
          "ternary": {
           "aaxis": {
            "gridcolor": "white",
            "linecolor": "white",
            "ticks": ""
           },
           "baxis": {
            "gridcolor": "white",
            "linecolor": "white",
            "ticks": ""
           },
           "bgcolor": "#E5ECF6",
           "caxis": {
            "gridcolor": "white",
            "linecolor": "white",
            "ticks": ""
           }
          },
          "title": {
           "x": 0.05
          },
          "xaxis": {
           "automargin": true,
           "gridcolor": "white",
           "linecolor": "white",
           "ticks": "",
           "title": {
            "standoff": 15
           },
           "zerolinecolor": "white",
           "zerolinewidth": 2
          },
          "yaxis": {
           "automargin": true,
           "gridcolor": "white",
           "linecolor": "white",
           "ticks": "",
           "title": {
            "standoff": 15
           },
           "zerolinecolor": "white",
           "zerolinewidth": 2
          }
         }
        },
        "violinmode": "overlay",
        "width": 2000,
        "xaxis": {
         "anchor": "y",
         "categoryarray": [
          "Frente úmida (maravalha)",
          "Fundo intermediária (maravalha)",
          "Meio semi-seca (maravalha)",
          "Casca de amendoim"
         ],
         "categoryorder": "array",
         "domain": [
          0,
          1
         ],
         "gridcolor": "lightgrey",
         "linecolor": "black",
         "mirror": true,
         "showgrid": false,
         "showline": true,
         "ticks": "outside",
         "title": {
          "text": "Classe"
         }
        },
        "yaxis": {
         "anchor": "x",
         "domain": [
          0,
          1
         ],
         "gridcolor": "lightgrey",
         "linecolor": "black",
         "mirror": true,
         "range": [
          0,
          1
         ],
         "showgrid": false,
         "showline": true,
         "ticks": "outside",
         "title": {
          "text": "Probabilidade"
         }
        }
       }
      }
     },
     "metadata": {},
     "output_type": "display_data"
    }
   ],
   "source": [
    "csv_filename = 'resnet50v2-mod_predictions.csv'\n",
    "df = pd.read_csv(csv_filename)\n",
    "\n",
    "df.rename(columns={'Frente+Umida':'Frente úmida (maravalha)', 'Fundo+Intermediaria':'Fundo intermediária (maravalha)', 'Meio+Seca':'Meio semi-seca (maravalha)', 'camendoim6sCenL1':\"Casca de amendoim\"}, inplace=True)\n",
    "\n",
    "df_melted = pd.melt(df, value_vars=df.columns[1:], var_name='Class', value_name='Probability')\n",
    "\n",
    "fig = px.violin(df_melted, x='Class', y='Probability', color='Class',\n",
    "                labels={'Probability': 'Probabilidade', 'Class': 'Classe'},\n",
    "                )\n",
    "\n",
    "fig.update_layout(height=800, width=2000)\n",
    "fig.update_layout(yaxis=dict(range=[0, 1]))\n",
    "fig.update_layout(\n",
    "    plot_bgcolor='white',\n",
    "    font=dict(family='Times', size=36, color='black')  \n",
    ")\n",
    "fig.update_xaxes(\n",
    "    mirror=True,\n",
    "    ticks='outside',\n",
    "    showline=True,\n",
    "    linecolor='black',\n",
    "    gridcolor='lightgrey',\n",
    "    showgrid=False \n",
    ")\n",
    "fig.update_yaxes(\n",
    "    mirror=True,\n",
    "    ticks='outside',\n",
    "    showline=True,\n",
    "    linecolor='black',\n",
    "    gridcolor='lightgrey',\n",
    "    showgrid=False  \n",
    ")\n",
    "\n",
    "fig.update_traces(showlegend=False)\n",
    "\n",
    "fig.show()"
   ]
  },
  {
   "cell_type": "code",
   "execution_count": 47,
   "metadata": {},
   "outputs": [
    {
     "name": "stdout",
     "output_type": "stream",
     "text": [
      "200 200 1.0\n"
     ]
    }
   ],
   "source": [
    "# MODEL RESNET\n",
    "print(count, len(results), count / len(results))"
   ]
  }
 ],
 "metadata": {
  "kernelspec": {
   "display_name": "base",
   "language": "python",
   "name": "python3"
  },
  "language_info": {
   "codemirror_mode": {
    "name": "ipython",
    "version": 3
   },
   "file_extension": ".py",
   "mimetype": "text/x-python",
   "name": "python",
   "nbconvert_exporter": "python",
   "pygments_lexer": "ipython3",
   "version": "3.9.13"
  }
 },
 "nbformat": 4,
 "nbformat_minor": 2
}
